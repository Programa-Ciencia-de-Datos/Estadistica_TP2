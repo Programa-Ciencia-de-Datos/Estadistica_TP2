{
 "cells": [
  {
   "cell_type": "markdown",
   "metadata": {},
   "source": [
    "## Trabajo práctico 1: Bayes Ingenuo\n",
    "---\n",
    "*Estudiantes:* \n",
    "- Dennis Luna\n",
    "- Graciela Rivera\n",
    "- Luis E. Vargas \n",
    "---"
   ]
  },
  {
   "cell_type": "markdown",
   "metadata": {},
   "source": [
    "## *I Sección: Implementación de la clasificación multi-clase con Bayes ingenuo*"
   ]
  },
  {
   "cell_type": "markdown",
   "metadata": {},
   "source": [
    "### Librerías"
   ]
  },
  {
   "cell_type": "code",
   "execution_count": 17,
   "metadata": {},
   "outputs": [],
   "source": [
    "import re\n",
    "import torch\n",
    "import torchvision\n",
    "from PIL import Image\n",
    "import torchvision.transforms.functional as TF\n",
    "import matplotlib.pyplot as plt\n",
    "import numpy as np\n",
    "from sklearn.model_selection import train_test_split\n",
    "import seaborn as sns\n",
    "import pandas as pd\n",
    "from scipy.stats import multivariate_normal as mvn"
   ]
  },
  {
   "cell_type": "markdown",
   "metadata": {},
   "source": [
    "### 1. Carga de las imágenes- mnist_dataset"
   ]
  },
  {
   "cell_type": "code",
   "execution_count": 42,
   "metadata": {
    "scrolled": false
   },
   "outputs": [
    {
     "name": "stdout",
     "output_type": "stream",
     "text": [
      "train gray dimensions torch.Size([784, 600])\n",
      "train bin dimensions  torch.Size([784, 600])\n",
      "train labels  600\n",
      "images indexes  600\n"
     ]
    }
   ],
   "source": [
    "\n",
    "def binarize_image(image_tensor):\n",
    "    image_tensor[image_tensor > 0.5] = 1\n",
    "    image_tensor[image_tensor <= 0.5] = 0\n",
    "    return image_tensor\n",
    "\n",
    "def imshow(image_tensor):\n",
    "    im = plt.imshow(image_tensor.numpy(), cmap = 'gray')\n",
    "    plt.show()\n",
    "       \n",
    "def load_single_image(path = \"src_base/mnist_dataset/train\", img_index=1, mode=\"bin\"):\n",
    "    #Open up the dataset\n",
    "    dataset =  torchvision.datasets.ImageFolder(path)   \n",
    "    #print(dataset)\n",
    "    list_images = dataset.imgs\n",
    "    pair_path_label = list_images[img_index]\n",
    "    new_image = Image.open(pair_path_label[0]) \n",
    "    new_image_plain = None\n",
    "    \n",
    "    if(mode == \"bin\"):\n",
    "        new_image_tf = TF.to_tensor(new_image).squeeze() #Return tensor in range [0.0 - 1.0]\n",
    "        new_image_bin = binarize_image(new_image_tf)\n",
    "        new_image_plain = new_image_bin.view(new_image_bin.shape[0] * new_image_bin.shape[1])\n",
    "    elif(mode == \"gray\"):\n",
    "        new_image_gray = TF.pil_to_tensor(new_image).squeeze() #Return tensor in grayscale\n",
    "        new_image_plain = new_image_gray.view(new_image_gray.shape[0] * new_image_gray.shape[1])\n",
    "    else:\n",
    "        print(\"\\n-E- Modo seleccionado invalido\\n\")\n",
    "        \n",
    "    return(new_image_plain)\n",
    "        \n",
    "def load_dataset(path = \"src_base/mnist_dataset/train\"):\n",
    "    #Open up the dataset\n",
    "    dataset =  torchvision.datasets.ImageFolder(path)   \n",
    "    #print(dataset)\n",
    "    list_images = dataset.imgs\n",
    "    #print(list_images)\n",
    "    train_data_tensor_bin  = None \n",
    "    train_data_tensor_gray = None\n",
    "    labels_training = []\n",
    "    images_indexes = []\n",
    "    first_tensor = True\n",
    "    #list_images_training =  set(data_labeled.train_ds.x.items)\n",
    "    #print(list_images)\n",
    "    for i in range(len(list_images)):\n",
    "        pair_path_label = list_images[i]\n",
    "        image = Image.open(pair_path_label[0])\n",
    "        m = re.search(r'img_(\\d+)\\.', pair_path_label[0])\n",
    "        images_indexes.append(int(m.group(1)))\n",
    "        \n",
    "        x_tensor = TF.to_tensor(image).squeeze() #Return tensor in range [0.0 - 1.0]\n",
    "        x_tensor_gray = TF.pil_to_tensor(image).squeeze() #Return tensor in grayscale\n",
    "        x_tensor_bin = binarize_image(x_tensor)\n",
    "               \n",
    "        #plt.figure()\n",
    "        #plt.imshow(x_tensor_bin)\n",
    "        x_tensor_bin_plain = x_tensor_bin.view(x_tensor_bin.shape[0] * x_tensor_bin.shape[1], -1)\n",
    "        x_tensor_gray_plain = x_tensor_gray.view(x_tensor_gray.shape[0] * x_tensor_gray.shape[1], -1)\n",
    "        #print(\"tensor \", x_tensor_bin_plain)\n",
    "        #test dataset case        \n",
    "        #if(\"train\" in pair_path_label[0]):\n",
    "        labels_training += [pair_path_label[1]]\n",
    "        #print(pair_path_label)\n",
    "        if(first_tensor):\n",
    "            first_tensor = False\n",
    "            train_data_tensor_bin = x_tensor_bin_plain\n",
    "            train_data_tensor_gray = x_tensor_gray_plain\n",
    "        else:\n",
    "            train_data_tensor_bin = torch.cat((train_data_tensor_bin, x_tensor_bin_plain), 1)  \n",
    "            train_data_tensor_gray = torch.cat((train_data_tensor_gray, x_tensor_gray_plain), 1)\n",
    "    return (train_data_tensor_bin, train_data_tensor_gray, torch.tensor(labels_training), torch.tensor(images_indexes))       \n",
    "\n",
    "(train_data_tensor_bin, train_data_tensor_gray, labels_training, images_indexes) = load_dataset()\n",
    "\n",
    "print(\"train gray dimensions\", train_data_tensor_gray.shape)\n",
    "print(\"train bin dimensions \", train_data_tensor_bin.shape)\n",
    "print(\"train labels \", len(labels_training))\n",
    "print(\"images indexes \", len(images_indexes))"
   ]
  },
  {
   "cell_type": "markdown",
   "metadata": {},
   "source": [
    "### 2. Train Model Enfoque Paramétrico"
   ]
  },
  {
   "cell_type": "code",
   "execution_count": 3,
   "metadata": {
    "scrolled": false
   },
   "outputs": [
    {
     "data": {
      "text/plain": [
       "([tensor([[1., 1., 1.,  ..., 1., 1., 1.],\n",
       "          [1., 1., 1.,  ..., 1., 1., 1.],\n",
       "          [1., 1., 1.,  ..., 1., 1., 1.],\n",
       "          ...,\n",
       "          [1., 1., 1.,  ..., 1., 1., 1.],\n",
       "          [1., 1., 1.,  ..., 1., 1., 1.],\n",
       "          [1., 1., 1.,  ..., 1., 1., 1.]]),\n",
       "  tensor([[1.0000e-12, 1.0000e-12, 1.0000e-12,  ..., 1.0000e-12, 1.0000e-12,\n",
       "           1.0000e-12],\n",
       "          [1.0000e-12, 1.0000e-12, 1.0000e-12,  ..., 1.0000e-12, 1.0000e-12,\n",
       "           1.0000e-12],\n",
       "          [1.0000e-12, 1.0000e-12, 1.0000e-12,  ..., 1.0000e-12, 1.0000e-12,\n",
       "           1.0000e-12],\n",
       "          ...,\n",
       "          [1.0000e-12, 1.0000e-12, 1.0000e-12,  ..., 1.0000e-12, 1.0000e-12,\n",
       "           1.0000e-12],\n",
       "          [1.0000e-12, 1.0000e-12, 1.0000e-12,  ..., 1.0000e-12, 1.0000e-12,\n",
       "           1.0000e-12],\n",
       "          [1.0000e-12, 1.0000e-12, 1.0000e-12,  ..., 1.0000e-12, 1.0000e-12,\n",
       "           1.0000e-12]])],\n",
       " tensor([[0.1667, 0.0667, 0.3667,  ..., 0.3167, 0.2667, 0.0000],\n",
       "         [0.4000, 0.0333, 0.4333,  ..., 0.2500, 0.3667, 0.3667],\n",
       "         [0.3333, 0.0000, 0.8000,  ..., 0.9667, 0.4333, 0.1667],\n",
       "         ...,\n",
       "         [0.0000, 0.0000, 0.0000,  ..., 0.0000, 0.0000, 0.0000],\n",
       "         [0.0000, 0.0000, 0.0000,  ..., 0.0000, 0.0000, 0.0000],\n",
       "         [0.0000, 0.0000, 0.0000,  ..., 0.0000, 0.0000, 0.0000]],\n",
       "        dtype=torch.float64),\n",
       " tensor([[9.5480e-01, 2.6667e-01, 1.5921e+00,  ..., 1.7455e+00, 1.7243e+00,\n",
       "          1.0000e-12],\n",
       "         [2.5153e+00, 6.6667e-02, 1.1650e+00,  ..., 8.0085e-01, 2.6429e+00,\n",
       "          3.4904e+00],\n",
       "         [2.7006e+00, 1.0000e-12, 5.2475e+00,  ..., 8.7446e+00, 3.1650e+00,\n",
       "          9.5480e-01],\n",
       "         ...,\n",
       "         [1.0000e-12, 1.0000e-12, 1.0000e-12,  ..., 1.0000e-12, 1.0000e-12,\n",
       "          1.0000e-12],\n",
       "         [1.0000e-12, 1.0000e-12, 1.0000e-12,  ..., 1.0000e-12, 1.0000e-12,\n",
       "          1.0000e-12],\n",
       "         [1.0000e-12, 1.0000e-12, 1.0000e-12,  ..., 1.0000e-12, 1.0000e-12,\n",
       "          1.0000e-12]], dtype=torch.float64),\n",
       " tensor([0.1000, 0.1000, 0.1000, 0.1000, 0.1000, 0.1000, 0.1000, 0.1000, 0.1000,\n",
       "         0.1000]))"
      ]
     },
     "execution_count": 3,
     "metadata": {},
     "output_type": "execute_result"
    }
   ],
   "source": [
    "def evaluate_gaussian(mu, sigma, x):\n",
    "    coef_norm = 1 / (torch.sqrt(2.0 * torch.pi * sigma ** 2))\n",
    "    return coef_norm * torch.exp(-0.5*((x - mu)/sigma)**2)\n",
    "\n",
    "def evaluate_gaussian_log(mu, sigma, x_tensor):\n",
    "    M = x_tensor.shape[1]\n",
    "    summation = -1 / (2.0 * torch.pi * sigma ** 2) * ((x_tensor - mu) ** 2).sum(dim=1).view(x_tensor.shape[0], -1)\n",
    "    p_gaussian = summation - (M/2 * torch.log(torch.tensor(2 * torch.pi))) - (M * torch.log(sigma))\n",
    "    return p_gaussian\n",
    "    \n",
    "def train_model(train_data_tensor_bin, train_data_tensor_gray, labels_bin, labels_gray, num_classes = 10):\n",
    "\n",
    "    first_tensor = True\n",
    "    p_t_tensor_acc = None\n",
    "    p_m_1_given_k_acc = None\n",
    "    p_m_0_given_k_acc = None\n",
    "    mu_given_k_acc = None\n",
    "    sigma_given_k_acc = None\n",
    "    \n",
    "    for k in range(num_classes):\n",
    "        # Filtra train_data_tensor por clase para dataset binarizado y en escala de grises\n",
    "        train_data_tensor_bin_per_k = train_data_tensor_bin[:, labels_bin == k].type(torch.int64)\n",
    "        train_data_tensor_gray_per_k = train_data_tensor_gray[:, labels_gray == k].type(torch.float64)\n",
    "\n",
    "        # D = cantidad de filas (784 pixeles)\n",
    "        # N = cantidad de columnas (600 imágenes)\n",
    "        D, N = train_data_tensor_bin.shape\n",
    "        \n",
    "        # Estimacion de probabilidad a priori\n",
    "        p_t_tensor = torch.tensor([train_data_tensor_bin_per_k.shape[1] / N])\n",
    "        \n",
    "        # Estimacion de verosimilitud para cada pixel por clase\n",
    "        p_m_1_given_k = ((train_data_tensor_bin_per_k == 1).sum(dim=1)/train_data_tensor_bin_per_k.shape[1])+1e-12\n",
    "        \n",
    "        # Transforma tensor de verosimilitud a una sola columna\n",
    "        p_m_1_given_k = p_m_1_given_k.view(p_m_1_given_k.shape[0], -1)\n",
    "     \n",
    "        # Calculo de media y desviacion estandar\n",
    "        mu_given_k = torch.mean(train_data_tensor_gray_per_k, dim=1)\n",
    "        sigma_given_k = torch.var(train_data_tensor_gray_per_k, dim=1)+1e-12\n",
    "    \n",
    "        # Transforma tensor de mu y sigma a una sola columna\n",
    "        mu_given_k = mu_given_k.view(mu_given_k.shape[0], -1)\n",
    "        sigma_given_k = sigma_given_k.view(sigma_given_k.shape[0], -1)\n",
    "      \n",
    "        # Estimacion de funcion de densidad de probabilidad\n",
    "        if(first_tensor):\n",
    "            first_tensor = False\n",
    "            p_m_1_given_k_acc = p_m_1_given_k\n",
    "            p_t_tensor_acc = p_t_tensor\n",
    "            mu_given_k_acc = mu_given_k\n",
    "            sigma_given_k_acc = sigma_given_k\n",
    "            #gaussian_given_k_acc = gaussian_given_k\n",
    "        else:\n",
    "            p_m_1_given_k_acc = torch.cat((p_m_1_given_k_acc, p_m_1_given_k), 1)\n",
    "            p_t_tensor_acc = torch.cat((p_t_tensor_acc, p_t_tensor), 0)\n",
    "            mu_given_k_acc = torch.cat((mu_given_k_acc, mu_given_k), 1)\n",
    "            sigma_given_k_acc = torch.cat((sigma_given_k_acc, sigma_given_k), 1)\n",
    "            #gaussian_given_k_acc = torch.cat((gaussian_given_k_acc, gaussian_given_k), 1)\n",
    "\n",
    "    # Saca complemento de p_m_1_given_k_acc\n",
    "    p_m_0_given_k_acc = 1 - p_m_1_given_k_acc\n",
    "        \n",
    "    return (list([p_m_0_given_k_acc, p_m_1_given_k_acc]), mu_given_k_acc, sigma_given_k_acc, p_t_tensor_acc)\n",
    "            \n",
    "#px,mu_given_k_acc,sigma_given_k_acc,p_t_tensor_acc =\n",
    "train_model(train_data_tensor_bin, train_data_tensor_gray, labels_training, labels_training, 10)"
   ]
  },
  {
   "cell_type": "markdown",
   "metadata": {},
   "source": [
    "### 2.1 Train Model Enfoque Basado en Histogramas"
   ]
  },
  {
   "cell_type": "code",
   "execution_count": 4,
   "metadata": {
    "scrolled": false
   },
   "outputs": [
    {
     "data": {
      "image/png": "[encoded data removed]",
      "text/plain": [
       "<Figure size 432x288 with 1 Axes>"
      ]
     },
     "metadata": {
      "needs_background": "light"
     },
     "output_type": "display_data"
    },
    {
     "data": {
      "image/png": "[encoded data removed]",
      "text/plain": [
       "<Figure size 432x288 with 1 Axes>"
      ]
     },
     "metadata": {
      "needs_background": "light"
     },
     "output_type": "display_data"
    },
    {
     "data": {
      "image/png": "[encoded data removed]",
      "text/plain": [
       "<Figure size 432x288 with 1 Axes>"
      ]
     },
     "metadata": {
      "needs_background": "light"
     },
     "output_type": "display_data"
    },
    {
     "data": {
      "image/png": "[encoded data removed]",
      "text/plain": [
       "<Figure size 432x288 with 1 Axes>"
      ]
     },
     "metadata": {
      "needs_background": "light"
     },
     "output_type": "display_data"
    },
    {
     "data": {
      "image/png": "[encoded data removed]",
      "text/plain": [
       "<Figure size 432x288 with 1 Axes>"
      ]
     },
     "metadata": {
      "needs_background": "light"
     },
     "output_type": "display_data"
    },
    {
     "data": {
      "image/png": "[encoded data removed]",
      "text/plain": [
       "<Figure size 432x288 with 1 Axes>"
      ]
     },
     "metadata": {
      "needs_background": "light"
     },
     "output_type": "display_data"
    },
    {
     "data": {
      "image/png": "[encoded data removed]",
      "text/plain": [
       "<Figure size 432x288 with 1 Axes>"
      ]
     },
     "metadata": {
      "needs_background": "light"
     },
     "output_type": "display_data"
    },
    {
     "data": {
      "image/png": "[encoded data removed]",
      "text/plain": [
       "<Figure size 432x288 with 1 Axes>"
      ]
     },
     "metadata": {
      "needs_background": "light"
     },
     "output_type": "display_data"
    },
    {
     "data": {
      "image/png": "[encoded data removed]",
      "text/plain": [
       "<Figure size 432x288 with 1 Axes>"
      ]
     },
     "metadata": {
      "needs_background": "light"
     },
     "output_type": "display_data"
    },
    {
     "data": {
      "image/png": "[encoded data removed]",
      "text/plain": [
       "<Figure size 432x288 with 1 Axes>"
      ]
     },
     "metadata": {
      "needs_background": "light"
     },
     "output_type": "display_data"
    },
    {
     "data": {
      "image/png": "[encoded data removed]",
      "text/plain": [
       "<Figure size 432x288 with 1 Axes>"
      ]
     },
     "metadata": {
      "needs_background": "light"
     },
     "output_type": "display_data"
    }
   ],
   "source": [
    "def histogram_approach_Compound_graph(p_m_pix_val_given_k,bin_type,case):\n",
    "    \n",
    "    n_bins = 8\n",
    "    num_clases=10\n",
    "    \n",
    "    for k in range(num_clases):\n",
    "        #calculate histogram\n",
    "        #histogram, bins = np.histogram(p_m_pix_val_given_k[bin_type][:,k].numpy(), bins = 20, range = (0, 1))\n",
    "        name_label='Class' + str(k+1)\n",
    "        \n",
    "        plt.hist(p_m_pix_val_given_k[bin_type][:,k].numpy(),n_bins,alpha=0.5,label=name_label)\n",
    "        plt.title('Histogram Compound Graph when pixel probability equals' + case)\n",
    "        plt.xlabel('Probabilities')\n",
    "        plt.ylabel('Observations')\n",
    "        \n",
    "        if bin_type==0:\n",
    "            plt.legend(loc='upper left')\n",
    "        else:\n",
    "            plt.legend(loc='upper right')\n",
    "            \n",
    "    #plt.savefig(\"CompoundPlot\"+case+\".svg\")   \n",
    "            \n",
    "def histogram_approach_graph(p_m_pix_val_given_k,bin_type,case):\n",
    "    \n",
    "    num_clases=10\n",
    "    \n",
    "    for k in range(num_clases):\n",
    "        #calculate histogram\n",
    "        histogram, bins = np.histogram(p_m_pix_val_given_k[bin_type][:,k].numpy(), bins = 20, range = (0, 1))\n",
    "        \n",
    "        name_label='Class' + str(k)\n",
    "        \n",
    "        #plt.hist(p_m_pix_val_given_k[bin_type][:,k].numpy(),n_bins,alpha=0.5)\n",
    "        \n",
    "        p_1 = torch.tensor(histogram / histogram.sum())\n",
    "        p_1 = p_1.numpy()\n",
    "        #plot single histogram\n",
    "        \n",
    "        #calculate the width of the histogram bins displayed\n",
    "        width = np.max(bins[1:]) / bins[1:].shape[0]\n",
    "        #print(\"Width: \", width)\n",
    "        plt.bar(bins[1:].tolist(), p_1.tolist(), color ='blue', width = width)\n",
    "        plt.xlabel(\"Probabilities\")\n",
    "        plt.ylabel(\"Observations\")\n",
    "        plt.title(\"Single Histogram Class \"+str(k+1)+\". p\"+case+\"_given_k\")\n",
    "        #plt.savefig(\"Case_plot_\"+case+\"_%s.svg\"%(k+1))\n",
    "        plt.show()\n",
    "        \n",
    "        \n",
    "p_m_pix_val_given_k, mu_all, sigma_all, p_t_tensor = train_model(train_data_tensor_bin, train_data_tensor_gray, labels_training, labels_training)       \n",
    "\n",
    "histogram_approach_graph(p_m_pix_val_given_k,bin_type=1,case='1')\n",
    "histogram_approach_Compound_graph(p_m_pix_val_given_k,bin_type=1,case='1')"
   ]
  },
  {
   "cell_type": "markdown",
   "metadata": {},
   "source": [
    "### 3. Test Bernoulli Model Function"
   ]
  },
  {
   "cell_type": "code",
   "execution_count": 5,
   "metadata": {
    "scrolled": false
   },
   "outputs": [
    {
     "data": {
      "text/plain": [
       "(1,\n",
       " [tensor(-453.0000),\n",
       "  tensor(-71.3250),\n",
       "  tensor(-174.6764),\n",
       "  tensor(-181.1103),\n",
       "  tensor(-276.7626),\n",
       "  tensor(-163.3922),\n",
       "  tensor(-188.7553),\n",
       "  tensor(-227.8077),\n",
       "  tensor(-167.0967),\n",
       "  tensor(-226.6600)])"
      ]
     },
     "execution_count": 5,
     "metadata": {},
     "output_type": "execute_result"
    }
   ],
   "source": [
    "def test_model_bernoulli(input_torch, p_m_pix_val_given_k, p_t_tensor, num_classes = 10):\n",
    "    #assumes that the input comes in a row    \n",
    "    input_torch_single_column = input_torch.view(input_torch.shape[0], -1)\n",
    "    \n",
    "    p_t_k_given_m = [] \n",
    "    for k in range(num_classes):\n",
    "        # Extraer probabilidades de acuerdo al input_torch nuevo para cuando pixel es 0\n",
    "        #print(p_m_pix_val_given_k[0][:,k].shape)\n",
    "        #print(p_m_pix_val_given_k[0][:,k].unsqueeze(dim=1).shape)\n",
    "        #print(input_torch_single_column.shape)\n",
    "        p_m_0_extracted = torch.log(p_m_pix_val_given_k[0][:,k].unsqueeze(dim=1)[input_torch_single_column == 0])\n",
    "        #p_m_0_extracted = torch.log(p_m_pix_val_given_k[0][:,k][input_torch[k,:] == 0])\n",
    "        # Estima log para todas las probabilidades extraidas\n",
    "        p_m_0_estimated = p_m_0_extracted.sum(dim=0) \n",
    "        # Extraer probabilidades de acuerdo al input_torch nuevo para cuando pixel es 1\n",
    "        p_m_1_extracted = torch.log(p_m_pix_val_given_k[1][:,k].unsqueeze(dim=1)[input_torch_single_column == 1])\n",
    "        #p_m_1_extracted = torch.log(p_m_pix_val_given_k[1][:,k][input_torch[k,:] == 1])\n",
    "        # Estima log para todas las probabilidades extraidas\n",
    "        p_m_1_estimated = p_m_1_extracted.sum(dim=0) \n",
    "        # Estimacion de la probabilidad posterior\n",
    "        p_t_k_given_m.append(p_m_0_estimated + p_m_1_estimated + torch.log(p_t_tensor[k]))\n",
    "        \n",
    "    scores_classes = p_t_k_given_m\n",
    "    #predicted_label = max(p_t_k_given_m)\n",
    "    predicted_label = scores_classes.index(max(scores_classes))\n",
    "    return (predicted_label, scores_classes)#ocupo retorna la clase \n",
    "\n",
    "new_image_ber = load_single_image(img_index = 65, mode=\"bin\") #Numero 1\n",
    "test_model_bernoulli(new_image_ber, p_m_pix_val_given_k, p_t_tensor, num_classes = 10)\n",
    "\n",
    "    \n"
   ]
  },
  {
   "cell_type": "markdown",
   "metadata": {},
   "source": [
    "### 4. Test Gaussian Model Function"
   ]
  },
  {
   "cell_type": "code",
   "execution_count": 6,
   "metadata": {
    "scrolled": false
   },
   "outputs": [
    {
     "data": {
      "text/plain": [
       "(1,\n",
       " [tensor(-10234.3125),\n",
       "  tensor(-1882.2296),\n",
       "  tensor(-2931.0232),\n",
       "  tensor(-2997.3086),\n",
       "  tensor(-5552.8481),\n",
       "  tensor(-2899.3098),\n",
       "  tensor(-2730.3958),\n",
       "  tensor(-5943.7979),\n",
       "  tensor(-2861.8804),\n",
       "  tensor(-5870.3726)])"
      ]
     },
     "execution_count": 6,
     "metadata": {},
     "output_type": "execute_result"
    }
   ],
   "source": [
    "def test_model_gaussian(input_torch, mu, sigma, p_t_tensor, num_classes = 10):\n",
    "    #assumes that the input comes in a row\n",
    "    #input_torch_reshaped = input_torch.view(input_torch.shape[0], -1)\n",
    "    #print(input_torch_reshaped.shape)\n",
    "    \n",
    "    # Estimacion de la probabilidad de verisimilitud para todas las clases\n",
    "    #p_gaussian_estimated = evaluate_gaussian(mu, sigma, input_torch_reshaped)+1e-12\n",
    "    #print(p_gaussian_estimated.shape)\n",
    "\n",
    "    p_posterior_all = []\n",
    "    for k in range(num_classes):\n",
    "        # Estimacion de la probabilidad posterior\n",
    "        mu_row = mu[:,k].reshape(1, mu.shape[0]).squeeze()\n",
    "        sigma_row = sigma[:,k].reshape(1, sigma.shape[0]).squeeze()\n",
    "        p_gaussian_estimated = mvn.logpdf(input_torch, mean=mu_row, cov=sigma_row, allow_singular=True) + torch.log(p_t_tensor[k])\n",
    "        p_posterior_all.append(p_gaussian_estimated)\n",
    "        #p_posterior_all.append(p_gaussian_estimated[:, k].sum(dim=0) + torch.log(p_t_tensor[k]))\n",
    "        \n",
    "    scores_classes = p_posterior_all\n",
    "    predicted_label = scores_classes.index(max(scores_classes))\n",
    "    #predicted_label = max(scores_classes)\n",
    "       \n",
    "    return(predicted_label, scores_classes)\n",
    "\n",
    "new_image_gaus = load_single_image(img_index = 65, mode=\"gray\") #Numero 1\n",
    "\n",
    "test_model_gaussian(new_image_gaus, mu_all, sigma_all, p_t_tensor, num_classes = 10)"
   ]
  },
  {
   "cell_type": "markdown",
   "metadata": {},
   "source": [
    "### 6.Test Bernoulli Model batch Function: Accuracy"
   ]
  },
  {
   "cell_type": "code",
   "execution_count": 7,
   "metadata": {},
   "outputs": [],
   "source": [
    "def test_Bernoulli_model_batch(test_set, labels, p_m_pix_val_given_k, p_t_tensor):\n",
    "    \n",
    "    number_observations = test_set.shape[0]\n",
    "    number_correct_predictions = 0\n",
    "    for observation_id in range(number_observations):\n",
    "        current_observation = test_set[observation_id]\n",
    "        predicted_label,scores_classes = test_model_bernoulli(current_observation, p_m_pix_val_given_k, p_t_tensor, num_classes = 10)\n",
    "        if (predicted_label == labels[observation_id]): #poner la clase label= clase \n",
    "            number_correct_predictions += 1\n",
    "\n",
    "    accuracy = number_correct_predictions/number_observations\n",
    "    #print(accuracy)\n",
    "    return accuracy\n"
   ]
  },
  {
   "cell_type": "markdown",
   "metadata": {},
   "source": [
    "### 5.Test Gaussian Model batch Function: Accuracy"
   ]
  },
  {
   "cell_type": "code",
   "execution_count": 8,
   "metadata": {},
   "outputs": [],
   "source": [
    "def test_Gaussian_model_batch(test_set, labels, mu_tensor, sigma_tensor, p_t_tensor):\n",
    "    \n",
    "    number_observations = test_set.shape[0]\n",
    "    number_correct_predictions = 0\n",
    "    for observation_id in range(number_observations):\n",
    "        current_observation = test_set[observation_id]\n",
    "        predicted_label,scores_classes = test_model_gaussian(current_observation, mu_tensor, sigma_tensor, p_t_tensor, num_classes = 10)\n",
    "        if (predicted_label == labels[observation_id]): #poner la clase label= clase \n",
    "            number_correct_predictions += 1\n",
    "\n",
    "    accuracy = number_correct_predictions/number_observations\n",
    "    #print(accuracy)\n",
    "    return accuracy\n"
   ]
  },
  {
   "cell_type": "markdown",
   "metadata": {},
   "source": [
    "## *A|B Testing*"
   ]
  },
  {
   "cell_type": "markdown",
   "metadata": {},
   "source": [
    "### 1.Create partitions with 80% dataset for Train Model and 20% dataset for Test Model (Stratify)"
   ]
  },
  {
   "cell_type": "code",
   "execution_count": 97,
   "metadata": {
    "scrolled": false
   },
   "outputs": [
    {
     "name": "stdout",
     "output_type": "stream",
     "text": [
      "ID images feature para tratamiento A = Bernoulli:\n",
      "\n",
      "tensor([164., 169., 168., 441.,   1., 268.,  29., 319., 371., 225.,  35., 602.,\n",
      "        180., 134., 222.,  48., 253., 153., 478., 544., 217.,  33., 530., 176.,\n",
      "        457., 298., 403., 155., 590.,   0., 150.,  44., 257., 196., 537., 129.,\n",
      "        674., 255., 192., 618., 173., 557., 316., 451., 166., 108.,  47., 469.,\n",
      "        274., 351., 436.,  30., 442.,  17.,  63., 529., 396., 132., 420.,  90.,\n",
      "        428., 331., 532., 490., 230., 161.,  88., 187.,  58.,  32., 261., 186.,\n",
      "        504., 439., 647., 362., 195., 494., 269., 610., 233., 467., 199., 497.,\n",
      "        381., 315., 244., 183., 654.,  85., 519., 294., 194., 226., 265., 561.,\n",
      "        462., 347., 239., 297., 277., 263., 144., 197., 640.,  97., 367., 127.,\n",
      "        595., 423., 382., 344., 139., 249., 289., 128., 353., 149., 604., 325.])\n",
      "\n",
      "ID images feature para tratamiento B = Gaussiano:\n",
      "\n",
      "tensor([164, 169, 168, 441,   1, 268,  29, 319, 371, 225,  35, 602, 180, 134,\n",
      "        222,  48, 253, 153, 478, 544, 217,  33, 530, 176, 457, 298, 403, 155,\n",
      "        590,   0, 150,  44, 257, 196, 537, 129, 674, 255, 192, 618, 173, 557,\n",
      "        316, 451, 166, 108,  47, 469, 274, 351, 436,  30, 442,  17,  63, 529,\n",
      "        396, 132, 420,  90, 428, 331, 532, 490, 230, 161,  88, 187,  58,  32,\n",
      "        261, 186, 504, 439, 647, 362, 195, 494, 269, 610, 233, 467, 199, 497,\n",
      "        381, 315, 244, 183, 654,  85, 519, 294, 194, 226, 265, 561, 462, 347,\n",
      "        239, 297, 277, 263, 144, 197, 640,  97, 367, 127, 595, 423, 382, 344,\n",
      "        139, 249, 289, 128, 353, 149, 604, 325])\n",
      "\n",
      "Comparación de cada ID image entre ambas particiones para el 20% del dataset usado en testing:\n",
      "\n",
      "tensor([True, True, True, True, True, True, True, True, True, True, True, True,\n",
      "        True, True, True, True, True, True, True, True, True, True, True, True,\n",
      "        True, True, True, True, True, True, True, True, True, True, True, True,\n",
      "        True, True, True, True, True, True, True, True, True, True, True, True,\n",
      "        True, True, True, True, True, True, True, True, True, True, True, True,\n",
      "        True, True, True, True, True, True, True, True, True, True, True, True,\n",
      "        True, True, True, True, True, True, True, True, True, True, True, True,\n",
      "        True, True, True, True, True, True, True, True, True, True, True, True,\n",
      "        True, True, True, True, True, True, True, True, True, True, True, True,\n",
      "        True, True, True, True, True, True, True, True, True, True, True, True])\n"
     ]
    }
   ],
   "source": [
    "#Changed images_indexes tensor to a singular column\n",
    "images_indexes_col = images_indexes.view(images_indexes.shape[0], -1)\n",
    "\n",
    "#Transposed dimensions to be processed by train_test_split from [784,600] to [600,784]\n",
    "dataset_bin = torch.transpose(train_data_tensor_bin, 0, 1)\n",
    "dataset_gray = torch.transpose(train_data_tensor_gray, 0, 1)\n",
    "#print(dataset_bin.shape, labels_training.shape)\n",
    "\n",
    "#Added images indexes to the dataset before partioning\n",
    "dataset_bin = torch.cat((dataset_bin,images_indexes_col), 1)\n",
    "dataset_gray = torch.cat((dataset_gray,images_indexes_col), 1)\n",
    "\n",
    "# Creando particiones 80% Training y 20% Testing para el set de datos\n",
    "features_train_bin, features_test_bin, label_train_bin, label_test_bin = train_test_split(dataset_bin, labels_training, test_size=0.2, random_state=1, stratify=labels_training)\n",
    "features_train_gray, features_test_gray, label_train_gray, label_test_gray = train_test_split(dataset_gray, labels_training, test_size=0.2, random_state=1, stratify=labels_training)\n",
    "\n",
    "print(\"ID images feature para tratamiento A = Gaussiano:\\n\")\n",
    "print(features_test_bin[:,-1])\n",
    "print(\"\\nID images feature para tratamiento B = Bernoulli:\\n\")\n",
    "print(features_test_gray[:,-1])\n",
    "print(\"\\nComparación de cada ID image entre ambas particiones para el 20% del dataset usado en testing:\\n\")\n",
    "print(torch.eq(features_test_bin[:,-1],features_test_gray[:,-1]))\n",
    "#print(torch.bincount(label_train_bin))"
   ]
  },
  {
   "cell_type": "markdown",
   "metadata": {},
   "source": [
    "### 1.Train Model with previous partitions "
   ]
  },
  {
   "cell_type": "code",
   "execution_count": 98,
   "metadata": {},
   "outputs": [
    {
     "name": "stdout",
     "output_type": "stream",
     "text": [
      "Bernoulli Accuracy: 81.66666666666667 %\n",
      "Gaussian Accuracy: 64.16666666666667 %\n"
     ]
    }
   ],
   "source": [
    "#Revert transpose dimensions for train model\n",
    "x_train_bin = torch.transpose(features_train_bin[:,0:784], 1, 0)\n",
    "x_test_bin = torch.transpose(features_test_bin[:,0:784], 0, 1)\n",
    "x_train_gray = torch.transpose(features_train_gray[:,0:784], 0, 1)\n",
    "x_test_gray = torch.transpose(features_test_gray[:,0:784], 0, 1)\n",
    "\n",
    "#Training model with 70% of the dataset\n",
    "p_m_pix_val_given_k, mu_all, sigma_all, p_t_tensor = train_model(x_train_bin, x_train_gray, label_train_bin, label_train_gray)\n",
    "\n",
    "#Get accuraccy for Bernoulli\n",
    "bernoulli_accuracy = test_Bernoulli_model_batch(features_test_bin[:,0:784], label_test_bin, p_m_pix_val_given_k, p_t_tensor)\n",
    "print(\"Bernoulli Accuracy:\",bernoulli_accuracy*100,\"%\")\n",
    "\n",
    "#Training model with 70% of the dataset\n",
    "p_m_pix_val_given_k, mu_all, sigma_all, p_t_tensor = train_model(x_train_bin, x_train_gray, label_train_bin, label_train_gray)\n",
    "\n",
    "#Get accuraccy for Gaussian\n",
    "gaussian_accuracy = test_Gaussian_model_batch(features_test_gray[:,0:784], label_test_gray, mu_all, sigma_all, p_t_tensor)\n",
    "print(\"Gaussian Accuracy:\",gaussian_accuracy*100,\"%\")"
   ]
  },
  {
   "cell_type": "code",
   "execution_count": null,
   "metadata": {},
   "outputs": [],
   "source": []
  }
 ],
 "metadata": {
  "kernelspec": {
   "display_name": "Python 3 (ipykernel)",
   "language": "python",
   "name": "python3"
  },
  "language_info": {
   "codemirror_mode": {
    "name": "ipython",
    "version": 3
   },
   "file_extension": ".py",
   "mimetype": "text/x-python",
   "name": "python",
   "nbconvert_exporter": "python",
   "pygments_lexer": "ipython3",
   "version": "3.9.7"
  }
 },
 "nbformat": 4,
 "nbformat_minor": 2
}
