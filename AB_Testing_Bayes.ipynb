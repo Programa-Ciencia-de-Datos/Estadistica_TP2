{
 "cells": [
  {
   "cell_type": "markdown",
   "metadata": {},
   "source": [
    "## Trabajo práctico 1: Bayes Ingenuo\n",
    "---\n",
    "*Estudiantes:* \n",
    "- Dennis Luna\n",
    "- Graciela Rivera\n",
    "- Luis E. Vargas \n",
    "---"
   ]
  },
  {
   "cell_type": "markdown",
   "metadata": {},
   "source": [
    "## *I Sección: Implementación de la clasificación multi-clase con Bayes ingenuo*"
   ]
  },
  {
   "cell_type": "markdown",
   "metadata": {},
   "source": [
    "### Bibliotecas"
   ]
  },
  {
   "cell_type": "code",
   "execution_count": 2,
   "metadata": {},
   "outputs": [
    {
     "name": "stderr",
     "output_type": "stream",
     "text": [
      "2022-11-06 20:50:34.477965: I tensorflow/core/platform/cpu_feature_guard.cc:193] This TensorFlow binary is optimized with oneAPI Deep Neural Network Library (oneDNN) to use the following CPU instructions in performance-critical operations:  AVX2 FMA\n",
      "To enable them in other operations, rebuild TensorFlow with the appropriate compiler flags.\n"
     ]
    }
   ],
   "source": [
    "import re\n",
    "import torch\n",
    "import torchvision\n",
    "import tensorflow as tf\n",
    "import matplotlib.pyplot as plt\n",
    "import seaborn as sns\n",
    "import pandas as pd\n",
    "import torchvision.transforms.functional as TF\n",
    "import matplotlib.pyplot as plt\n",
    "import numpy as np\n",
    "\n",
    "from PIL import Image\n",
    "from sklearn.model_selection import train_test_split\n",
    "from scipy import stats\n",
    "from scipy.stats import multivariate_normal as mvn\n",
    "from scipy.stats import skew\n",
    "from scipy.stats import f_oneway"
   ]
  },
  {
   "cell_type": "markdown",
   "metadata": {},
   "source": [
    "### 1. Carga de las imágenes- mnist_dataset"
   ]
  },
  {
   "cell_type": "code",
   "execution_count": 3,
   "metadata": {
    "scrolled": false
   },
   "outputs": [
    {
     "name": "stdout",
     "output_type": "stream",
     "text": [
      "train gray dimensions torch.Size([784, 600])\n",
      "train bin dimensions  torch.Size([784, 600])\n",
      "train labels  600\n",
      "images indexes  600\n"
     ]
    }
   ],
   "source": [
    "\n",
    "def binarize_image(image_tensor):\n",
    "    image_tensor[image_tensor > 0.5] = 1\n",
    "    image_tensor[image_tensor <= 0.5] = 0\n",
    "    return image_tensor\n",
    "\n",
    "def imshow(image_tensor):\n",
    "    im = plt.imshow(image_tensor.numpy(), cmap = 'gray')\n",
    "    plt.show()\n",
    "       \n",
    "def load_single_image(path = \"src_base/mnist_dataset/train\", img_index=1, mode=\"bin\"):\n",
    "    #Open up the dataset\n",
    "    dataset =  torchvision.datasets.ImageFolder(path)   \n",
    "    #print(dataset)\n",
    "    list_images = dataset.imgs\n",
    "    pair_path_label = list_images[img_index]\n",
    "    new_image = Image.open(pair_path_label[0]) \n",
    "    new_image_plain = None\n",
    "    \n",
    "    if(mode == \"bin\"):\n",
    "        new_image_tf = TF.to_tensor(new_image).squeeze() #Return tensor in range [0.0 - 1.0]\n",
    "        new_image_bin = binarize_image(new_image_tf)\n",
    "        new_image_plain = new_image_bin.view(new_image_bin.shape[0] * new_image_bin.shape[1])\n",
    "    elif(mode == \"gray\"):\n",
    "        new_image_gray = TF.pil_to_tensor(new_image).squeeze() #Return tensor in grayscale\n",
    "        new_image_plain = new_image_gray.view(new_image_gray.shape[0] * new_image_gray.shape[1])\n",
    "    else:\n",
    "        print(\"\\n-E- Modo seleccionado invalido\\n\")\n",
    "        \n",
    "    return(new_image_plain)\n",
    "        \n",
    "def load_dataset(path = \"src_base/mnist_dataset/train\"):\n",
    "    #Open up the dataset\n",
    "    dataset =  torchvision.datasets.ImageFolder(path)   \n",
    "    #print(dataset)\n",
    "    list_images = dataset.imgs\n",
    "    #print(list_images)\n",
    "    train_data_tensor_bin  = None \n",
    "    train_data_tensor_gray = None\n",
    "    labels_training = []\n",
    "    images_indexes = []\n",
    "    first_tensor = True\n",
    "    #list_images_training =  set(data_labeled.train_ds.x.items)\n",
    "    #print(list_images)\n",
    "    for i in range(len(list_images)):\n",
    "        pair_path_label = list_images[i]\n",
    "        image = Image.open(pair_path_label[0])\n",
    "        m = re.search(r'img_(\\d+)\\.', pair_path_label[0])\n",
    "        images_indexes.append(int(m.group(1)))\n",
    "        \n",
    "        x_tensor = TF.to_tensor(image).squeeze() #Return tensor in range [0.0 - 1.0]\n",
    "        x_tensor_gray = TF.pil_to_tensor(image).squeeze() #Return tensor in grayscale\n",
    "        x_tensor_bin = binarize_image(x_tensor)\n",
    "               \n",
    "        #plt.figure()\n",
    "        #plt.imshow(x_tensor_bin)\n",
    "        x_tensor_bin_plain = x_tensor_bin.view(x_tensor_bin.shape[0] * x_tensor_bin.shape[1], -1)\n",
    "        x_tensor_gray_plain = x_tensor_gray.view(x_tensor_gray.shape[0] * x_tensor_gray.shape[1], -1)\n",
    "        #print(\"tensor \", x_tensor_bin_plain)\n",
    "        #test dataset case        \n",
    "        #if(\"train\" in pair_path_label[0]):\n",
    "        labels_training += [pair_path_label[1]]\n",
    "        #print(pair_path_label)\n",
    "        if(first_tensor):\n",
    "            first_tensor = False\n",
    "            train_data_tensor_bin = x_tensor_bin_plain\n",
    "            train_data_tensor_gray = x_tensor_gray_plain\n",
    "        else:\n",
    "            train_data_tensor_bin = torch.cat((train_data_tensor_bin, x_tensor_bin_plain), 1)  \n",
    "            train_data_tensor_gray = torch.cat((train_data_tensor_gray, x_tensor_gray_plain), 1)\n",
    "    return (train_data_tensor_bin, train_data_tensor_gray, torch.tensor(labels_training), torch.tensor(images_indexes))       \n",
    "\n",
    "(train_data_tensor_bin, train_data_tensor_gray, labels_training, images_indexes) = load_dataset()\n",
    "\n",
    "print(\"train gray dimensions\", train_data_tensor_gray.shape)\n",
    "print(\"train bin dimensions \", train_data_tensor_bin.shape)\n",
    "print(\"train labels \", len(labels_training))\n",
    "print(\"images indexes \", len(images_indexes))"
   ]
  },
  {
   "cell_type": "markdown",
   "metadata": {},
   "source": [
    "### 2. Train Model Enfoque Paramétrico"
   ]
  },
  {
   "cell_type": "code",
   "execution_count": 7,
   "metadata": {
    "scrolled": false
   },
   "outputs": [
    {
     "data": {
      "text/plain": [
       "([tensor([[1., 1., 1.,  ..., 1., 1., 1.],\n",
       "          [1., 1., 1.,  ..., 1., 1., 1.],\n",
       "          [1., 1., 1.,  ..., 1., 1., 1.],\n",
       "          ...,\n",
       "          [1., 1., 1.,  ..., 1., 1., 1.],\n",
       "          [1., 1., 1.,  ..., 1., 1., 1.],\n",
       "          [1., 1., 1.,  ..., 1., 1., 1.]]),\n",
       "  tensor([[1.0000e-12, 1.0000e-12, 1.0000e-12,  ..., 1.0000e-12, 1.0000e-12,\n",
       "           1.0000e-12],\n",
       "          [1.0000e-12, 1.0000e-12, 1.0000e-12,  ..., 1.0000e-12, 1.0000e-12,\n",
       "           1.0000e-12],\n",
       "          [1.0000e-12, 1.0000e-12, 1.0000e-12,  ..., 1.0000e-12, 1.0000e-12,\n",
       "           1.0000e-12],\n",
       "          ...,\n",
       "          [1.0000e-12, 1.0000e-12, 1.0000e-12,  ..., 1.0000e-12, 1.0000e-12,\n",
       "           1.0000e-12],\n",
       "          [1.0000e-12, 1.0000e-12, 1.0000e-12,  ..., 1.0000e-12, 1.0000e-12,\n",
       "           1.0000e-12],\n",
       "          [1.0000e-12, 1.0000e-12, 1.0000e-12,  ..., 1.0000e-12, 1.0000e-12,\n",
       "           1.0000e-12]])],\n",
       " tensor([[0.1667, 0.0667, 0.3667,  ..., 0.3167, 0.2667, 0.0000],\n",
       "         [0.4000, 0.0333, 0.4333,  ..., 0.2500, 0.3667, 0.3667],\n",
       "         [0.3333, 0.0000, 0.8000,  ..., 0.9667, 0.4333, 0.1667],\n",
       "         ...,\n",
       "         [0.0000, 0.0000, 0.0000,  ..., 0.0000, 0.0000, 0.0000],\n",
       "         [0.0000, 0.0000, 0.0000,  ..., 0.0000, 0.0000, 0.0000],\n",
       "         [0.0000, 0.0000, 0.0000,  ..., 0.0000, 0.0000, 0.0000]],\n",
       "        dtype=torch.float64),\n",
       " tensor([[9.5480e-01, 2.6667e-01, 1.5921e+00,  ..., 1.7455e+00, 1.7243e+00,\n",
       "          1.0000e-12],\n",
       "         [2.5153e+00, 6.6667e-02, 1.1650e+00,  ..., 8.0085e-01, 2.6429e+00,\n",
       "          3.4904e+00],\n",
       "         [2.7006e+00, 1.0000e-12, 5.2475e+00,  ..., 8.7446e+00, 3.1650e+00,\n",
       "          9.5480e-01],\n",
       "         ...,\n",
       "         [1.0000e-12, 1.0000e-12, 1.0000e-12,  ..., 1.0000e-12, 1.0000e-12,\n",
       "          1.0000e-12],\n",
       "         [1.0000e-12, 1.0000e-12, 1.0000e-12,  ..., 1.0000e-12, 1.0000e-12,\n",
       "          1.0000e-12],\n",
       "         [1.0000e-12, 1.0000e-12, 1.0000e-12,  ..., 1.0000e-12, 1.0000e-12,\n",
       "          1.0000e-12]], dtype=torch.float64),\n",
       " tensor([0.1000, 0.1000, 0.1000, 0.1000, 0.1000, 0.1000, 0.1000, 0.1000, 0.1000,\n",
       "         0.1000]))"
      ]
     },
     "execution_count": 7,
     "metadata": {},
     "output_type": "execute_result"
    }
   ],
   "source": [
    "def evaluate_gaussian(mu, sigma, x):\n",
    "    coef_norm = 1 / (torch.sqrt(2.0 * torch.pi * sigma ** 2))\n",
    "    return coef_norm * torch.exp(-0.5*((x - mu)/sigma)**2)\n",
    "\n",
    "def evaluate_gaussian_log(mu, sigma, x_tensor):\n",
    "    M = x_tensor.shape[1]\n",
    "    summation = -1 / (2.0 * torch.pi * sigma ** 2) * ((x_tensor - mu) ** 2).sum(dim=1).view(x_tensor.shape[0], -1)\n",
    "    p_gaussian = summation - (M/2 * torch.log(torch.tensor(2 * torch.pi))) - (M * torch.log(sigma))\n",
    "    return p_gaussian\n",
    "    \n",
    "def train_model(train_data_tensor_bin, train_data_tensor_gray, labels_bin, labels_gray, num_classes = 10):\n",
    "\n",
    "    first_tensor = True\n",
    "    p_t_tensor_acc = None\n",
    "    p_m_1_given_k_acc = None\n",
    "    p_m_0_given_k_acc = None\n",
    "    mu_given_k_acc = None\n",
    "    sigma_given_k_acc = None\n",
    "    \n",
    "    for k in range(num_classes):\n",
    "        # Filtra train_data_tensor por clase para dataset binarizado y en escala de grises\n",
    "        train_data_tensor_bin_per_k = train_data_tensor_bin[:, labels_bin == k].type(torch.int64)\n",
    "        train_data_tensor_gray_per_k = train_data_tensor_gray[:, labels_gray == k].type(torch.float64)\n",
    "\n",
    "        # D = cantidad de filas (784 pixeles)\n",
    "        # N = cantidad de columnas (600 imágenes)\n",
    "        D, N = train_data_tensor_bin.shape\n",
    "        \n",
    "        # Estimacion de probabilidad a priori\n",
    "        p_t_tensor = torch.tensor([train_data_tensor_bin_per_k.shape[1] / N])\n",
    "        \n",
    "        # Estimacion de verosimilitud para cada pixel por clase\n",
    "        p_m_1_given_k = ((train_data_tensor_bin_per_k == 1).sum(dim=1)/train_data_tensor_bin_per_k.shape[1])+1e-12\n",
    "        \n",
    "        # Transforma tensor de verosimilitud a una sola columna\n",
    "        p_m_1_given_k = p_m_1_given_k.view(p_m_1_given_k.shape[0], -1)\n",
    "     \n",
    "        # Calculo de media y desviacion estandar\n",
    "        mu_given_k = torch.mean(train_data_tensor_gray_per_k, dim=1)\n",
    "        sigma_given_k = torch.var(train_data_tensor_gray_per_k, dim=1)+1e-12\n",
    "    \n",
    "        # Transforma tensor de mu y sigma a una sola columna\n",
    "        mu_given_k = mu_given_k.view(mu_given_k.shape[0], -1)\n",
    "        sigma_given_k = sigma_given_k.view(sigma_given_k.shape[0], -1)\n",
    "      \n",
    "        # Estimacion de funcion de densidad de probabilidad\n",
    "        if(first_tensor):\n",
    "            first_tensor = False\n",
    "            p_m_1_given_k_acc = p_m_1_given_k\n",
    "            p_t_tensor_acc = p_t_tensor\n",
    "            mu_given_k_acc = mu_given_k\n",
    "            sigma_given_k_acc = sigma_given_k\n",
    "            #gaussian_given_k_acc = gaussian_given_k\n",
    "        else:\n",
    "            p_m_1_given_k_acc = torch.cat((p_m_1_given_k_acc, p_m_1_given_k), 1)\n",
    "            p_t_tensor_acc = torch.cat((p_t_tensor_acc, p_t_tensor), 0)\n",
    "            mu_given_k_acc = torch.cat((mu_given_k_acc, mu_given_k), 1)\n",
    "            sigma_given_k_acc = torch.cat((sigma_given_k_acc, sigma_given_k), 1)\n",
    "            #gaussian_given_k_acc = torch.cat((gaussian_given_k_acc, gaussian_given_k), 1)\n",
    "\n",
    "    # Saca complemento de p_m_1_given_k_acc\n",
    "    p_m_0_given_k_acc = 1 - p_m_1_given_k_acc\n",
    "        \n",
    "    return (list([p_m_0_given_k_acc, p_m_1_given_k_acc]), mu_given_k_acc, sigma_given_k_acc, p_t_tensor_acc)\n",
    "            \n",
    "#px,mu_given_k_acc,sigma_given_k_acc,p_t_tensor_acc =\n",
    "train_model(train_data_tensor_bin, train_data_tensor_gray, labels_training, labels_training, 10)"
   ]
  },
  {
   "cell_type": "markdown",
   "metadata": {},
   "source": [
    "### 2.1 Train Model Enfoque Basado en Histogramas"
   ]
  },
  {
   "cell_type": "code",
   "execution_count": 8,
   "metadata": {
    "scrolled": false
   },
   "outputs": [
    {
     "data": {
      "image/png": "[encoded data removed]",
      "text/plain": [
       "<Figure size 432x288 with 1 Axes>"
      ]
     },
     "metadata": {
      "needs_background": "light"
     },
     "output_type": "display_data"
    },
    {
     "data": {
      "image/png": "[encoded data removed]",
      "text/plain": [
       "<Figure size 432x288 with 1 Axes>"
      ]
     },
     "metadata": {
      "needs_background": "light"
     },
     "output_type": "display_data"
    },
    {
     "data": {
      "image/png": "[encoded data removed]",
      "text/plain": [
       "<Figure size 432x288 with 1 Axes>"
      ]
     },
     "metadata": {
      "needs_background": "light"
     },
     "output_type": "display_data"
    },
    {
     "data": {
      "image/png": "[encoded data removed]",
      "text/plain": [
       "<Figure size 432x288 with 1 Axes>"
      ]
     },
     "metadata": {
      "needs_background": "light"
     },
     "output_type": "display_data"
    },
    {
     "data": {
      "image/png": "[encoded data removed]",
      "text/plain": [
       "<Figure size 432x288 with 1 Axes>"
      ]
     },
     "metadata": {
      "needs_background": "light"
     },
     "output_type": "display_data"
    },
    {
     "data": {
      "image/png": "[encoded data removed]",
      "text/plain": [
       "<Figure size 432x288 with 1 Axes>"
      ]
     },
     "metadata": {
      "needs_background": "light"
     },
     "output_type": "display_data"
    },
    {
     "data": {
      "image/png": "[encoded data removed]",
      "text/plain": [
       "<Figure size 432x288 with 1 Axes>"
      ]
     },
     "metadata": {
      "needs_background": "light"
     },
     "output_type": "display_data"
    },
    {
     "data": {
      "image/png": "[encoded data removed]",
      "text/plain": [
       "<Figure size 432x288 with 1 Axes>"
      ]
     },
     "metadata": {
      "needs_background": "light"
     },
     "output_type": "display_data"
    },
    {
     "data": {
      "image/png": "[encoded data removed]",
      "text/plain": [
       "<Figure size 432x288 with 1 Axes>"
      ]
     },
     "metadata": {
      "needs_background": "light"
     },
     "output_type": "display_data"
    },
    {
     "data": {
      "image/png": "[encoded data removed]",
      "text/plain": [
       "<Figure size 432x288 with 1 Axes>"
      ]
     },
     "metadata": {
      "needs_background": "light"
     },
     "output_type": "display_data"
    },
    {
     "data": {
      "image/png": "[encoded data removed]",
      "text/plain": [
       "<Figure size 432x288 with 1 Axes>"
      ]
     },
     "metadata": {
      "needs_background": "light"
     },
     "output_type": "display_data"
    }
   ],
   "source": [
    "def histogram_approach_Compound_graph(p_m_pix_val_given_k,bin_type,case):\n",
    "    \n",
    "    n_bins = 8\n",
    "    num_clases=10\n",
    "    \n",
    "    for k in range(num_clases):\n",
    "        #calculate histogram\n",
    "        #histogram, bins = np.histogram(p_m_pix_val_given_k[bin_type][:,k].numpy(), bins = 20, range = (0, 1))\n",
    "        name_label='Class' + str(k+1)\n",
    "        \n",
    "        plt.hist(p_m_pix_val_given_k[bin_type][:,k].numpy(),n_bins,alpha=0.5,label=name_label)\n",
    "        plt.title('Histogram Compound Graph when pixel probability equals' + case)\n",
    "        plt.xlabel('Probabilities')\n",
    "        plt.ylabel('Observations')\n",
    "        \n",
    "        if bin_type==0:\n",
    "            plt.legend(loc='upper left')\n",
    "        else:\n",
    "            plt.legend(loc='upper right')\n",
    "            \n",
    "    #plt.savefig(\"CompoundPlot\"+case+\".svg\")   \n",
    "            \n",
    "def histogram_approach_graph(p_m_pix_val_given_k,bin_type,case):\n",
    "    \n",
    "    num_clases=10\n",
    "    \n",
    "    for k in range(num_clases):\n",
    "        #calculate histogram\n",
    "        histogram, bins = np.histogram(p_m_pix_val_given_k[bin_type][:,k].numpy(), bins = 20, range = (0, 1))\n",
    "        \n",
    "        name_label='Class' + str(k)\n",
    "        \n",
    "        #plt.hist(p_m_pix_val_given_k[bin_type][:,k].numpy(),n_bins,alpha=0.5)\n",
    "        \n",
    "        p_1 = torch.tensor(histogram / histogram.sum())\n",
    "        p_1 = p_1.numpy()\n",
    "        #plot single histogram\n",
    "        \n",
    "        #calculate the width of the histogram bins displayed\n",
    "        width = np.max(bins[1:]) / bins[1:].shape[0]\n",
    "        #print(\"Width: \", width)\n",
    "        plt.bar(bins[1:].tolist(), p_1.tolist(), color ='blue', width = width)\n",
    "        plt.xlabel(\"Probabilities\")\n",
    "        plt.ylabel(\"Observations\")\n",
    "        plt.title(\"Single Histogram Class \"+str(k+1)+\". p\"+case+\"_given_k\")\n",
    "        #plt.savefig(\"Case_plot_\"+case+\"_%s.svg\"%(k+1))\n",
    "        plt.show()\n",
    "        \n",
    "        \n",
    "p_m_pix_val_given_k, mu_all, sigma_all, p_t_tensor = train_model(train_data_tensor_bin, train_data_tensor_gray, labels_training, labels_training)       \n",
    "\n",
    "histogram_approach_graph(p_m_pix_val_given_k,bin_type=1,case='1')\n",
    "histogram_approach_Compound_graph(p_m_pix_val_given_k,bin_type=1,case='1')"
   ]
  },
  {
   "cell_type": "markdown",
   "metadata": {},
   "source": [
    "### 3. Test Bernoulli Model Function"
   ]
  },
  {
   "cell_type": "code",
   "execution_count": 9,
   "metadata": {
    "scrolled": false
   },
   "outputs": [
    {
     "data": {
      "text/plain": [
       "(1,\n",
       " [tensor(-453.0000),\n",
       "  tensor(-71.3250),\n",
       "  tensor(-174.6764),\n",
       "  tensor(-181.1103),\n",
       "  tensor(-276.7626),\n",
       "  tensor(-163.3922),\n",
       "  tensor(-188.7553),\n",
       "  tensor(-227.8077),\n",
       "  tensor(-167.0967),\n",
       "  tensor(-226.6600)])"
      ]
     },
     "execution_count": 9,
     "metadata": {},
     "output_type": "execute_result"
    }
   ],
   "source": [
    "def test_model_bernoulli(input_torch, p_m_pix_val_given_k, p_t_tensor, num_classes = 10):\n",
    "    #assumes that the input comes in a row    \n",
    "    input_torch_single_column = input_torch.view(input_torch.shape[0], -1)\n",
    "    \n",
    "    p_t_k_given_m = [] \n",
    "    for k in range(num_classes):\n",
    "        # Extraer probabilidades de acuerdo al input_torch nuevo para cuando pixel es 0\n",
    "        #print(p_m_pix_val_given_k[0][:,k].shape)\n",
    "        #print(p_m_pix_val_given_k[0][:,k].unsqueeze(dim=1).shape)\n",
    "        #print(input_torch_single_column.shape)\n",
    "        p_m_0_extracted = torch.log(p_m_pix_val_given_k[0][:,k].unsqueeze(dim=1)[input_torch_single_column == 0])\n",
    "        #p_m_0_extracted = torch.log(p_m_pix_val_given_k[0][:,k][input_torch[k,:] == 0])\n",
    "        # Estima log para todas las probabilidades extraidas\n",
    "        p_m_0_estimated = p_m_0_extracted.sum(dim=0) \n",
    "        # Extraer probabilidades de acuerdo al input_torch nuevo para cuando pixel es 1\n",
    "        p_m_1_extracted = torch.log(p_m_pix_val_given_k[1][:,k].unsqueeze(dim=1)[input_torch_single_column == 1])\n",
    "        #p_m_1_extracted = torch.log(p_m_pix_val_given_k[1][:,k][input_torch[k,:] == 1])\n",
    "        # Estima log para todas las probabilidades extraidas\n",
    "        p_m_1_estimated = p_m_1_extracted.sum(dim=0) \n",
    "        # Estimacion de la probabilidad posterior\n",
    "        p_t_k_given_m.append(p_m_0_estimated + p_m_1_estimated + torch.log(p_t_tensor[k]))\n",
    "        \n",
    "    scores_classes = p_t_k_given_m\n",
    "    #predicted_label = max(p_t_k_given_m)\n",
    "    predicted_label = scores_classes.index(max(scores_classes))\n",
    "    return (predicted_label, scores_classes)#ocupo retorna la clase \n",
    "\n",
    "new_image_ber = load_single_image(img_index = 65, mode=\"bin\") #Numero 1\n",
    "test_model_bernoulli(new_image_ber, p_m_pix_val_given_k, p_t_tensor, num_classes = 10)\n",
    "\n",
    "    \n"
   ]
  },
  {
   "cell_type": "markdown",
   "metadata": {},
   "source": [
    "### 4. Test Gaussian Model Function"
   ]
  },
  {
   "cell_type": "code",
   "execution_count": 10,
   "metadata": {
    "scrolled": false
   },
   "outputs": [
    {
     "data": {
      "text/plain": [
       "(1,\n",
       " [tensor(-10234.3125),\n",
       "  tensor(-1882.2296),\n",
       "  tensor(-2931.0232),\n",
       "  tensor(-2997.3086),\n",
       "  tensor(-5552.8481),\n",
       "  tensor(-2899.3098),\n",
       "  tensor(-2730.3958),\n",
       "  tensor(-5943.7979),\n",
       "  tensor(-2861.8804),\n",
       "  tensor(-5870.3726)])"
      ]
     },
     "execution_count": 10,
     "metadata": {},
     "output_type": "execute_result"
    }
   ],
   "source": [
    "def test_model_gaussian(input_torch, mu, sigma, p_t_tensor, num_classes = 10):\n",
    "    #assumes that the input comes in a row\n",
    "    #input_torch_reshaped = input_torch.view(input_torch.shape[0], -1)\n",
    "    #print(input_torch_reshaped.shape)\n",
    "    \n",
    "    # Estimacion de la probabilidad de verisimilitud para todas las clases\n",
    "    #p_gaussian_estimated = evaluate_gaussian(mu, sigma, input_torch_reshaped)+1e-12\n",
    "    #print(p_gaussian_estimated.shape)\n",
    "\n",
    "    p_posterior_all = []\n",
    "    for k in range(num_classes):\n",
    "        # Estimacion de la probabilidad posterior\n",
    "        mu_row = mu[:,k].reshape(1, mu.shape[0]).squeeze()\n",
    "        sigma_row = sigma[:,k].reshape(1, sigma.shape[0]).squeeze()\n",
    "        p_gaussian_estimated = mvn.logpdf(input_torch, mean=mu_row, cov=sigma_row, allow_singular=True) + torch.log(p_t_tensor[k])\n",
    "        p_posterior_all.append(p_gaussian_estimated)\n",
    "        #p_posterior_all.append(p_gaussian_estimated[:, k].sum(dim=0) + torch.log(p_t_tensor[k]))\n",
    "        \n",
    "    scores_classes = p_posterior_all\n",
    "    predicted_label = scores_classes.index(max(scores_classes))\n",
    "    #predicted_label = max(scores_classes)\n",
    "       \n",
    "    return(predicted_label, scores_classes)\n",
    "\n",
    "new_image_gaus = load_single_image(img_index = 65, mode=\"gray\") #Numero 1\n",
    "\n",
    "test_model_gaussian(new_image_gaus, mu_all, sigma_all, p_t_tensor, num_classes = 10)"
   ]
  },
  {
   "cell_type": "markdown",
   "metadata": {},
   "source": [
    "### 6.Test Bernoulli Model batch Function: Accuracy"
   ]
  },
  {
   "cell_type": "code",
   "execution_count": 11,
   "metadata": {},
   "outputs": [],
   "source": [
    "def test_Bernoulli_model_batch(test_set, labels, p_m_pix_val_given_k, p_t_tensor):\n",
    "    \n",
    "    number_observations = test_set.shape[0]\n",
    "    number_correct_predictions = 0\n",
    "    for observation_id in range(number_observations):\n",
    "        current_observation = test_set[observation_id]\n",
    "        predicted_label,scores_classes = test_model_bernoulli(current_observation, p_m_pix_val_given_k, p_t_tensor, num_classes = 10)\n",
    "        if (predicted_label == labels[observation_id]): #poner la clase label= clase \n",
    "            number_correct_predictions += 1\n",
    "\n",
    "    accuracy = number_correct_predictions/number_observations\n",
    "    #print(accuracy)\n",
    "    return accuracy\n"
   ]
  },
  {
   "cell_type": "markdown",
   "metadata": {},
   "source": [
    "### 5.Test Gaussian Model batch Function: Accuracy"
   ]
  },
  {
   "cell_type": "code",
   "execution_count": 12,
   "metadata": {},
   "outputs": [],
   "source": [
    "def test_Gaussian_model_batch(test_set, labels, mu_tensor, sigma_tensor, p_t_tensor):\n",
    "    \n",
    "    number_observations = test_set.shape[0]\n",
    "    number_correct_predictions = 0\n",
    "    for observation_id in range(number_observations):\n",
    "        current_observation = test_set[observation_id]\n",
    "        predicted_label,scores_classes = test_model_gaussian(current_observation, mu_tensor, sigma_tensor, p_t_tensor, num_classes = 10)\n",
    "        if (predicted_label == labels[observation_id]): #poner la clase label= clase \n",
    "            number_correct_predictions += 1\n",
    "\n",
    "    accuracy = number_correct_predictions/number_observations\n",
    "    #print(accuracy)\n",
    "    return accuracy\n"
   ]
  },
  {
   "cell_type": "markdown",
   "metadata": {},
   "source": [
    "## *Section 2: A|B Testing*"
   ]
  },
  {
   "cell_type": "markdown",
   "metadata": {},
   "source": [
    "### 2.1 Create partitions with 80% dataset for Train Model and 20% dataset for Test Model (Stratify)"
   ]
  },
  {
   "cell_type": "code",
   "execution_count": 32,
   "metadata": {
    "scrolled": false
   },
   "outputs": [
    {
     "name": "stdout",
     "output_type": "stream",
     "text": [
      "ID images feature para tratamiento A = Gaussiano:\n",
      "\n",
      "tensor([164., 169., 168., 441.,   1., 268.,  29., 319., 371., 225.,  35., 602.,\n",
      "        180., 134., 222.,  48., 253., 153., 478., 544., 217.,  33., 530., 176.,\n",
      "        457., 298., 403., 155., 590.,   0., 150.,  44., 257., 196., 537., 129.,\n",
      "        674., 255., 192., 618., 173., 557., 316., 451., 166., 108.,  47., 469.,\n",
      "        274., 351., 436.,  30., 442.,  17.,  63., 529., 396., 132., 420.,  90.,\n",
      "        428., 331., 532., 490., 230., 161.,  88., 187.,  58.,  32., 261., 186.,\n",
      "        504., 439., 647., 362., 195., 494., 269., 610., 233., 467., 199., 497.,\n",
      "        381., 315., 244., 183., 654.,  85., 519., 294., 194., 226., 265., 561.,\n",
      "        462., 347., 239., 297., 277., 263., 144., 197., 640.,  97., 367., 127.,\n",
      "        595., 423., 382., 344., 139., 249., 289., 128., 353., 149., 604., 325.])\n",
      "\n",
      "ID images feature para tratamiento B = Bernoulli:\n",
      "\n",
      "tensor([164, 169, 168, 441,   1, 268,  29, 319, 371, 225,  35, 602, 180, 134,\n",
      "        222,  48, 253, 153, 478, 544, 217,  33, 530, 176, 457, 298, 403, 155,\n",
      "        590,   0, 150,  44, 257, 196, 537, 129, 674, 255, 192, 618, 173, 557,\n",
      "        316, 451, 166, 108,  47, 469, 274, 351, 436,  30, 442,  17,  63, 529,\n",
      "        396, 132, 420,  90, 428, 331, 532, 490, 230, 161,  88, 187,  58,  32,\n",
      "        261, 186, 504, 439, 647, 362, 195, 494, 269, 610, 233, 467, 199, 497,\n",
      "        381, 315, 244, 183, 654,  85, 519, 294, 194, 226, 265, 561, 462, 347,\n",
      "        239, 297, 277, 263, 144, 197, 640,  97, 367, 127, 595, 423, 382, 344,\n",
      "        139, 249, 289, 128, 353, 149, 604, 325])\n",
      "\n",
      "Comparación de cada ID image entre ambas particiones para el 20% del dataset usado en testing:\n",
      "\n",
      "tensor([True, True, True, True, True, True, True, True, True, True, True, True,\n",
      "        True, True, True, True, True, True, True, True, True, True, True, True,\n",
      "        True, True, True, True, True, True, True, True, True, True, True, True,\n",
      "        True, True, True, True, True, True, True, True, True, True, True, True,\n",
      "        True, True, True, True, True, True, True, True, True, True, True, True,\n",
      "        True, True, True, True, True, True, True, True, True, True, True, True,\n",
      "        True, True, True, True, True, True, True, True, True, True, True, True,\n",
      "        True, True, True, True, True, True, True, True, True, True, True, True,\n",
      "        True, True, True, True, True, True, True, True, True, True, True, True,\n",
      "        True, True, True, True, True, True, True, True, True, True, True, True])\n"
     ]
    }
   ],
   "source": [
    "#Changed images_indexes tensor to a singular column\n",
    "images_indexes_col = images_indexes.view(images_indexes.shape[0], -1)\n",
    "\n",
    "#Transposed dimensions to be processed by train_test_split from [784,600] to [600,784]\n",
    "dataset_bin = torch.transpose(train_data_tensor_bin, 0, 1)\n",
    "dataset_gray = torch.transpose(train_data_tensor_gray, 0, 1)\n",
    "#print(dataset_bin.shape, labels_training.shape)\n",
    "\n",
    "#Added images indexes to the dataset before partioning\n",
    "dataset_bin = torch.cat((dataset_bin,images_indexes_col), 1)\n",
    "dataset_gray = torch.cat((dataset_gray,images_indexes_col), 1)\n",
    "\n",
    "# Creando particiones 80% Training y 20% Testing para el set de datos\n",
    "features_train_bin, features_test_bin, label_train_bin, label_test_bin = train_test_split(dataset_bin, labels_training, test_size=0.2, random_state=1, stratify=labels_training)\n",
    "features_train_gray, features_test_gray, label_train_gray, label_test_gray = train_test_split(dataset_gray, labels_training, test_size=0.2, random_state=1, stratify=labels_training)\n",
    "\n",
    "print(\"ID images feature para tratamiento A = Gaussiano:\\n\")\n",
    "print(features_test_bin[:,-1])\n",
    "print(\"\\nID images feature para tratamiento B = Bernoulli:\\n\")\n",
    "print(features_test_gray[:,-1])\n",
    "print(\"\\nComparación de cada ID image entre ambas particiones para el 20% del dataset usado en testing:\\n\")\n",
    "print(torch.eq(features_test_bin[:,-1],features_test_gray[:,-1]))\n",
    "#print(torch.bincount(label_train_bin))"
   ]
  },
  {
   "cell_type": "markdown",
   "metadata": {},
   "source": [
    "### Train Model with previous partitions "
   ]
  },
  {
   "cell_type": "code",
   "execution_count": 14,
   "metadata": {},
   "outputs": [
    {
     "name": "stdout",
     "output_type": "stream",
     "text": [
      "Bernoulli Accuracy: 81.66666666666667 %\n",
      "Gaussian Accuracy: 64.16666666666667 %\n"
     ]
    }
   ],
   "source": [
    "#Revert transpose dimensions for train model\n",
    "x_train_bin = torch.transpose(features_train_bin[:,0:784], 1, 0)\n",
    "x_test_bin = torch.transpose(features_test_bin[:,0:784], 0, 1)\n",
    "x_train_gray = torch.transpose(features_train_gray[:,0:784], 0, 1)\n",
    "x_test_gray = torch.transpose(features_test_gray[:,0:784], 0, 1)\n",
    "\n",
    "#Training model with 70% of the dataset\n",
    "p_m_pix_val_given_k, mu_all, sigma_all, p_t_tensor = train_model(x_train_bin, x_train_gray, label_train_bin, label_train_gray)\n",
    "\n",
    "#Get accuraccy for Bernoulli\n",
    "bernoulli_accuracy = test_Bernoulli_model_batch(features_test_bin[:,0:784], label_test_bin, p_m_pix_val_given_k, p_t_tensor)\n",
    "print(\"Bernoulli Accuracy:\",bernoulli_accuracy*100,\"%\")\n",
    "\n",
    "#Training model with 70% of the dataset\n",
    "p_m_pix_val_given_k, mu_all, sigma_all, p_t_tensor = train_model(x_train_bin, x_train_gray, label_train_bin, label_train_gray)\n",
    "\n",
    "#Get accuraccy for Gaussian\n",
    "gaussian_accuracy = test_Gaussian_model_batch(features_test_gray[:,0:784], label_test_gray, mu_all, sigma_all, p_t_tensor)\n",
    "print(\"Gaussian Accuracy:\",gaussian_accuracy*100,\"%\")"
   ]
  },
  {
   "cell_type": "markdown",
   "metadata": {},
   "source": [
    "## *Section 2: Graphics & Results*"
   ]
  },
  {
   "cell_type": "markdown",
   "metadata": {},
   "source": [
    "### 2.2 Mean/Median/Standard Desviation/Skewness\n",
    "- Treatment_A = Gaussian Model\n",
    "- Treatment_B = Bernoulli  Model"
   ]
  },
  {
   "cell_type": "code",
   "execution_count": 4,
   "metadata": {},
   "outputs": [
    {
     "name": "stdout",
     "output_type": "stream",
     "text": [
      "Tratamiento A:\n",
      "Media: 65.25033569335938\n",
      "Mediana: 65.0\n",
      "Desviación Estándar: 2.7168993949890137\n",
      "Inclinación: 0.2768966853618622\n",
      "\n",
      "Tratamiento B:\n",
      "Media: 78.44400024414062\n",
      "Mediana: 78.33000183105469\n",
      "Desviación Estándar: 3.4449667930603027\n",
      "Inclinación: -0.7611114382743835\n"
     ]
    }
   ],
   "source": [
    "A_sample_means = torch.tensor([64.17, 64.17, 63.33, 62.50, 66.67, 61.67, 62.50, 63.33, 65.00, 64.17,\n",
    "                               69.17, 61.67, 63.33, 61.67, 65.83, 71.67, 67.50, 68.33, 69.17, 65.00,\n",
    "                               66.67, 67.50, 65.83, 65.83, 60.00, 64.17, 65.83, 68.33, 64.17, 68.33])\n",
    "\n",
    "B_sample_means = torch.tensor([81.67, 75.00, 80.83, 75.00, 80.83, 75.83, 68.33, 73.33, 79.17, 82.50,\n",
    "                               75.00, 79.17, 81.67, 78.33, 82.50, 85.00, 81.67, 80.83, 80.83, 75.00,\n",
    "                               78.33, 80.83, 77.50, 77.50, 78.33, 79.17, 77.50, 77.50, 80.00, 74.17])\n",
    "\n",
    "#A_sample_means_sorted, A_indexes = torch.sort(A_sample_means)\n",
    "\n",
    "print(\"Tratamiento A:\")\n",
    "print(\"Media:\", A_sample_means.mean().item())\n",
    "print(\"Mediana:\", A_sample_means.median().item())\n",
    "print(\"Desviación Estándar:\", A_sample_means.std().item())\n",
    "print(\"Inclinación:\", skew(A_sample_means, axis=0, bias=False))\n",
    "\n",
    "print(\"\\nTratamiento B:\")\n",
    "print(\"Media:\", B_sample_means.mean().item())\n",
    "print(\"Mediana:\", B_sample_means.median().item())\n",
    "print(\"Desviación Estándar:\", B_sample_means.std().item())\n",
    "print(\"Inclinación:\", skew(B_sample_means, axis=0, bias=False))"
   ]
  },
  {
   "cell_type": "markdown",
   "metadata": {},
   "source": [
    "### 2.3 Histogram\n",
    "- Treatment_A = Gaussian Model\n",
    "- Treatment_B = Bernoulli  Model"
   ]
  },
  {
   "cell_type": "code",
   "execution_count": 5,
   "metadata": {},
   "outputs": [],
   "source": [
    "Treatment_A = np.array([64.17, 64.17,63.33,62.50,66.67,61.67,62.50,63.33,65.00, 64.17, 69.17, 61.67, 63.33, 61.67,\n",
    "65.83,71.67,67.50,68.33,69.17,65.00,66.67,67.50,65.83,65.83,60.00,64.17,65.83,68.33,64.17,68.33,])"
   ]
  },
  {
   "cell_type": "code",
   "execution_count": 6,
   "metadata": {},
   "outputs": [],
   "source": [
    "Treatment_B = np.array([81.67,75.00,80.83,75.00,80.83,75.83,68.33,73.33,79.17,82.50,75.00,79.17,81.67,78.33,82.50,\n",
    "85.00,81.67,80.83,80.83,75.00,78.33,80.83,77.50,77.50,78.33,79.17,77.50,77.50,80.00,74.17   \n",
    "])"
   ]
  },
  {
   "cell_type": "code",
   "execution_count": 9,
   "metadata": {},
   "outputs": [],
   "source": [
    "def plot_bar(bins, histogram, axis_x_label, axis_y_label, title):    \n",
    "    \n",
    "    fig = plt.figure()\n",
    "    axes = fig.add_axes([0, 0, 1, 1])\n",
    "    #calculate the width of the histogram bins displayed\n",
    "    width = np.max(bins) / bins.shape[0]\n",
    "    print(\"Width: \", width)\n",
    "    axes.bar(bins[0:].tolist(), histogram.tolist(), color ='blue', width = width)\n",
    "    plt.xlabel(axis_x_label)\n",
    "    plt.ylabel(axis_y_label)\n",
    "    plt.title(title)\n",
    "    plt.show()"
   ]
  },
  {
   "cell_type": "code",
   "execution_count": 11,
   "metadata": {},
   "outputs": [
    {
     "name": "stdout",
     "output_type": "stream",
     "text": [
      "Width:  3.5835\n"
     ]
    },
    {
     "data": {
      "image/png": "[encoded data removed]",
      "text/plain": [
       "<Figure size 432x288 with 1 Axes>"
      ]
     },
     "metadata": {
      "needs_background": "light"
     },
     "output_type": "display_data"
    },
    {
     "name": "stdout",
     "output_type": "stream",
     "text": [
      "Width:  4.25\n"
     ]
    },
    {
     "data": {
      "image/png": "[encoded data removed]",
      "text/plain": [
       "<Figure size 432x288 with 1 Axes>"
      ]
     },
     "metadata": {
      "needs_background": "light"
     },
     "output_type": "display_data"
    }
   ],
   "source": [
    "# Histogram number of bins: number of bins within the range\n",
    "histogram_A, bins_A = np.histogram(Treatment_A, bins = 20)\n",
    "histogram_B, bins_B = np.histogram(Treatment_B, bins = 20)\n",
    "# plot histogram\n",
    "plot_bar(bins_A[1:],histogram_A, \"Tasa de Aciertos\", \"Frecuencia\", \"Histograma para el tratamiento A: Modelo Gaussiano\")\n",
    "plot_bar(bins_B[1:],histogram_B, \"Tasa de Aciertos\", \"Frecuencia\", \"Histograma para el tratamiento B: Modelo Bernoulli\")"
   ]
  },
  {
   "cell_type": "markdown",
   "metadata": {},
   "source": [
    "### 2.3 Boxplot "
   ]
  },
  {
   "cell_type": "code",
   "execution_count": 12,
   "metadata": {},
   "outputs": [
    {
     "data": {
      "image/png": "[encoded data removed]",
      "text/plain": [
       "<Figure size 432x288 with 1 Axes>"
      ]
     },
     "metadata": {
      "needs_background": "light"
     },
     "output_type": "display_data"
    }
   ],
   "source": [
    "\n",
    "def display_box_plot(Treatment_A,Treatment_B, axis_y_label, title):\n",
    "    my_dict = {'Tratamiento A': Treatment_A, 'Tratamiento B': Treatment_B}\n",
    "    fig, ax = plt.subplots()\n",
    "    ax.boxplot(my_dict.values())\n",
    "    plt.ylabel(axis_y_label)\n",
    "    plt.title(title)\n",
    "    ax.set_xticklabels(my_dict.keys())\n",
    "\n",
    "display_box_plot(Treatment_A,Treatment_B, \"Tasas de Aciertos\", \"Diagrama de Cajas para ambos Tratamientos\")  "
   ]
  },
  {
   "cell_type": "markdown",
   "metadata": {},
   "source": [
    "### 2.3 Probability plot or P-P plot"
   ]
  },
  {
   "cell_type": "code",
   "execution_count": 38,
   "metadata": {},
   "outputs": [
    {
     "data": {
      "text/plain": [
       "Text(0.5, 1.0, 'P-P para el tratamiento B: Bernoulli')"
      ]
     },
     "execution_count": 38,
     "metadata": {},
     "output_type": "execute_result"
    },
    {
     "data": {
      "image/png": "[encoded data removed]",
      "text/plain": [
       "<Figure size 432x288 with 1 Axes>"
      ]
     },
     "metadata": {
      "needs_background": "light"
     },
     "output_type": "display_data"
    },
    {
     "data": {
      "image/png": "[encoded data removed]",
      "text/plain": [
       "<Figure size 432x288 with 1 Axes>"
      ]
     },
     "metadata": {
      "needs_background": "light"
     },
     "output_type": "display_data"
    }
   ],
   "source": [
    "fig1 = plt.figure()\n",
    "res1 = stats.probplot(Treatment_A, plot=plt, dist = 'norm')\n",
    "plt.title(\"P-P para el tratamiento A: Gaussiano\")\n",
    "fig2 = plt.figure()\n",
    "res2 = stats.probplot(Treatment_B, plot=plt, dist = 'norm')\n",
    "plt.title(\"P-P para el tratamiento B: Bernoulli\")"
   ]
  },
  {
   "cell_type": "markdown",
   "metadata": {},
   "source": [
    "## 3. Prueba de Kolmogorov-Smirnov"
   ]
  },
  {
   "cell_type": "code",
   "execution_count": 112,
   "metadata": {},
   "outputs": [],
   "source": [
    "##Sort Data for both treatments\n",
    "sort_ta=np.sort(Treatment_A)\n",
    "sort_tb=np.sort(Treatment_B)\n",
    "\n",
    "#Normalize treatments\n",
    "s_ta_n=(sort_ta-sort_ta.mean())/sort_ta.std()\n",
    "s_tb_n=(sort_tb-sort_tb.mean())/sort_tb.std()\n",
    "\n"
   ]
  },
  {
   "cell_type": "code",
   "execution_count": 113,
   "metadata": {},
   "outputs": [
    {
     "name": "stdout",
     "output_type": "stream",
     "text": [
      "La prueba de Kolmogorov-Smirnov para el tratamiento A es:\n"
     ]
    },
    {
     "data": {
      "text/plain": [
       "KstestResult(statistic=0.12371925616878654, pvalue=0.7022384531736575)"
      ]
     },
     "execution_count": 113,
     "metadata": {},
     "output_type": "execute_result"
    }
   ],
   "source": [
    "print('La prueba de Kolmogorov-Smirnov para el tratamiento A es:')\n",
    "stats.kstest(s_ta_n,'norm')"
   ]
  },
  {
   "cell_type": "code",
   "execution_count": 114,
   "metadata": {},
   "outputs": [
    {
     "name": "stdout",
     "output_type": "stream",
     "text": [
      "La prueba de Kolmogorov-Smirnov para el tratamiento B es:\n"
     ]
    },
    {
     "data": {
      "text/plain": [
       "KstestResult(statistic=0.12608878004758095, pvalue=0.6803367550665352)"
      ]
     },
     "execution_count": 114,
     "metadata": {},
     "output_type": "execute_result"
    }
   ],
   "source": [
    "print('La prueba de Kolmogorov-Smirnov para el tratamiento B es:')\n",
    "stats.kstest(s_tb_n,'norm')"
   ]
  },
  {
   "cell_type": "markdown",
   "metadata": {},
   "source": [
    "### Prueba de normalidad utilizando la prueba Anderson-Darling"
   ]
  },
  {
   "cell_type": "code",
   "execution_count": 110,
   "metadata": {},
   "outputs": [
    {
     "name": "stdout",
     "output_type": "stream",
     "text": [
      "La prueba de Anderson-Darling para el tratamiento A es:\n"
     ]
    },
    {
     "data": {
      "text/plain": [
       "AndersonResult(statistic=0.26942016530600554, critical_values=array([0.521, 0.593, 0.712, 0.83 , 0.988]), significance_level=array([15. , 10. ,  5. ,  2.5,  1. ]))"
      ]
     },
     "execution_count": 110,
     "metadata": {},
     "output_type": "execute_result"
    }
   ],
   "source": [
    "print('La prueba de Anderson-Darling para el tratamiento A es:')\n",
    "stats.anderson(Treatment_A,'norm')"
   ]
  },
  {
   "cell_type": "code",
   "execution_count": 115,
   "metadata": {},
   "outputs": [
    {
     "name": "stdout",
     "output_type": "stream",
     "text": [
      "La prueba de Anderson-Darling para el tratamiento B es:\n"
     ]
    },
    {
     "data": {
      "text/plain": [
       "AndersonResult(statistic=0.486647263707745, critical_values=array([0.521, 0.593, 0.712, 0.83 , 0.988]), significance_level=array([15. , 10. ,  5. ,  2.5,  1. ]))"
      ]
     },
     "execution_count": 115,
     "metadata": {},
     "output_type": "execute_result"
    }
   ],
   "source": [
    "print('La prueba de Anderson-Darling para el tratamiento B es:')\n",
    "stats.anderson(Treatment_B,'norm')"
   ]
  },
  {
   "cell_type": "markdown",
   "metadata": {},
   "source": [
    "## 4. ANOVA O Mann-Whitney- U"
   ]
  },
  {
   "cell_type": "markdown",
   "metadata": {},
   "source": [
    "Con base a lo obtenido por las pruebas de Kolmogorov-Smirnov se utiliza ANOVA"
   ]
  },
  {
   "cell_type": "code",
   "execution_count": 116,
   "metadata": {},
   "outputs": [
    {
     "data": {
      "text/plain": [
       "F_onewayResult(statistic=271.2916707124341, pvalue=1.5433417120288445e-23)"
      ]
     },
     "execution_count": 116,
     "metadata": {},
     "output_type": "execute_result"
    }
   ],
   "source": [
    "f_oneway(Treatment_A,Treatment_B)"
   ]
  },
  {
   "cell_type": "code",
   "execution_count": null,
   "metadata": {},
   "outputs": [],
   "source": []
  }
 ],
 "metadata": {
  "kernelspec": {
   "display_name": "Python 3 (ipykernel)",
   "language": "python",
   "name": "python3"
  },
  "language_info": {
   "codemirror_mode": {
    "name": "ipython",
    "version": 3
   },
   "file_extension": ".py",
   "mimetype": "text/x-python",
   "name": "python",
   "nbconvert_exporter": "python",
   "pygments_lexer": "ipython3",
   "version": "3.9.7"
  }
 },
 "nbformat": 4,
 "nbformat_minor": 2
}
